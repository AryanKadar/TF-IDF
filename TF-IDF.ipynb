{
 "cells": [
  {
   "cell_type": "code",
   "execution_count": 2,
   "id": "a620c0cb",
   "metadata": {},
   "outputs": [],
   "source": [
    "import pandas as pd\n",
    "from sklearn.feature_extraction.text import TfidfVectorizer"
   ]
  },
  {
   "cell_type": "code",
   "execution_count": 7,
   "id": "a86679d3",
   "metadata": {},
   "outputs": [],
   "source": [
    "data={0:[\"My name is aryan\",\"This is a sample document.\",\"Another example of a document.\",\"And here is another document.\",\"One more document for analysis.\",\"Just one last document.\"]}"
   ]
  },
  {
   "cell_type": "code",
   "execution_count": 8,
   "id": "a47d5a63",
   "metadata": {},
   "outputs": [
    {
     "data": {
      "text/html": [
       "<div>\n",
       "<style scoped>\n",
       "    .dataframe tbody tr th:only-of-type {\n",
       "        vertical-align: middle;\n",
       "    }\n",
       "\n",
       "    .dataframe tbody tr th {\n",
       "        vertical-align: top;\n",
       "    }\n",
       "\n",
       "    .dataframe thead th {\n",
       "        text-align: right;\n",
       "    }\n",
       "</style>\n",
       "<table border=\"1\" class=\"dataframe\">\n",
       "  <thead>\n",
       "    <tr style=\"text-align: right;\">\n",
       "      <th></th>\n",
       "      <th>0</th>\n",
       "    </tr>\n",
       "  </thead>\n",
       "  <tbody>\n",
       "    <tr>\n",
       "      <th>0</th>\n",
       "      <td>My name is aryan</td>\n",
       "    </tr>\n",
       "    <tr>\n",
       "      <th>1</th>\n",
       "      <td>This is a sample document.</td>\n",
       "    </tr>\n",
       "    <tr>\n",
       "      <th>2</th>\n",
       "      <td>Another example of a document.</td>\n",
       "    </tr>\n",
       "    <tr>\n",
       "      <th>3</th>\n",
       "      <td>And here is another document.</td>\n",
       "    </tr>\n",
       "    <tr>\n",
       "      <th>4</th>\n",
       "      <td>One more document for analysis.</td>\n",
       "    </tr>\n",
       "    <tr>\n",
       "      <th>5</th>\n",
       "      <td>Just one last document.</td>\n",
       "    </tr>\n",
       "  </tbody>\n",
       "</table>\n",
       "</div>"
      ],
      "text/plain": [
       "                                 0\n",
       "0                 My name is aryan\n",
       "1       This is a sample document.\n",
       "2   Another example of a document.\n",
       "3    And here is another document.\n",
       "4  One more document for analysis.\n",
       "5          Just one last document."
      ]
     },
     "execution_count": 8,
     "metadata": {},
     "output_type": "execute_result"
    }
   ],
   "source": [
    "pd.DataFrame(data)"
   ]
  },
  {
   "cell_type": "code",
   "execution_count": 9,
   "id": "0782e6dc",
   "metadata": {},
   "outputs": [],
   "source": [
    "tf=TfidfVectorizer()"
   ]
  },
  {
   "cell_type": "code",
   "execution_count": 30,
   "id": "48871f20",
   "metadata": {},
   "outputs": [
    {
     "data": {
      "text/plain": [
       "array([[0.        , 0.        , 0.        , 0.53611046, 0.        ,\n",
       "        0.        , 0.        , 0.        , 0.37115593, 0.        ,\n",
       "        0.        , 0.        , 0.53611046, 0.53611046, 0.        ,\n",
       "        0.        , 0.        , 0.        ],\n",
       "       [0.        , 0.        , 0.        , 0.        , 0.30940768,\n",
       "        0.        , 0.        , 0.        , 0.41810581, 0.        ,\n",
       "        0.        , 0.        , 0.        , 0.        , 0.        ,\n",
       "        0.        , 0.60392649, 0.60392649],\n",
       "       [0.        , 0.        , 0.47865722, 0.        , 0.2990544 ,\n",
       "        0.58371814, 0.        , 0.        , 0.        , 0.        ,\n",
       "        0.        , 0.        , 0.        , 0.        , 0.58371814,\n",
       "        0.        , 0.        , 0.        ],\n",
       "       [0.        , 0.54119728, 0.44378951, 0.        , 0.27726983,\n",
       "        0.        , 0.        , 0.54119728, 0.3746776 , 0.        ,\n",
       "        0.        , 0.        , 0.        , 0.        , 0.        ,\n",
       "        0.        , 0.        , 0.        ],\n",
       "       [0.50411896, 0.        , 0.        , 0.        , 0.25827362,\n",
       "        0.        , 0.50411896, 0.        , 0.        , 0.        ,\n",
       "        0.        , 0.50411896, 0.        , 0.        , 0.        ,\n",
       "        0.41338476, 0.        , 0.        ],\n",
       "       [0.        , 0.        , 0.        , 0.        , 0.2990544 ,\n",
       "        0.        , 0.        , 0.        , 0.        , 0.58371814,\n",
       "        0.58371814, 0.        , 0.        , 0.        , 0.        ,\n",
       "        0.47865722, 0.        , 0.        ]])"
      ]
     },
     "execution_count": 30,
     "metadata": {},
     "output_type": "execute_result"
    }
   ],
   "source": [
    "tf_mat=tf.fit_transform(data[0]).toarray()\n",
    "tf_mat"
   ]
  },
  {
   "cell_type": "code",
   "execution_count": 27,
   "id": "bcc014c2",
   "metadata": {},
   "outputs": [],
   "source": [
    "name=tf.get_feature_names_out()"
   ]
  },
  {
   "cell_type": "code",
   "execution_count": 48,
   "id": "8b34e426",
   "metadata": {},
   "outputs": [
    {
     "name": "stdout",
     "output_type": "stream",
     "text": [
      "['aryan' 'my' 'name']\n",
      "['is' 'sample' 'this']\n",
      "['another' 'example' 'of']\n",
      "['another' 'here' 'and']\n",
      "['for' 'more' 'analysis']\n",
      "['one' 'just' 'last']\n"
     ]
    }
   ],
   "source": [
    "for i in range(t.shape[0]):\n",
    "    score=tf_mat[i].flatten()\n",
    "    ind=score.argsort()[-3:]\n",
    "    print(name[ind])"
   ]
  },
  {
   "cell_type": "code",
   "execution_count": 51,
   "id": "74341ccf",
   "metadata": {},
   "outputs": [
    {
     "data": {
      "text/plain": [
       "{0: ['My name is aryan',\n",
       "  'This is a sample document.',\n",
       "  'Another example of a document.',\n",
       "  'And here is another document.',\n",
       "  'One more document for analysis.',\n",
       "  'Just one last document.']}"
      ]
     },
     "execution_count": 51,
     "metadata": {},
     "output_type": "execute_result"
    }
   ],
   "source": [
    "data"
   ]
  }
 ],
 "metadata": {
  "kernelspec": {
   "display_name": "Python 3 (ipykernel)",
   "language": "python",
   "name": "python3"
  },
  "language_info": {
   "codemirror_mode": {
    "name": "ipython",
    "version": 3
   },
   "file_extension": ".py",
   "mimetype": "text/x-python",
   "name": "python",
   "nbconvert_exporter": "python",
   "pygments_lexer": "ipython3",
   "version": "3.11.7"
  }
 },
 "nbformat": 4,
 "nbformat_minor": 5
}
